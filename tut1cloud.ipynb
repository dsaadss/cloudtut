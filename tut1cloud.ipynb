{
  "nbformat": 4,
  "nbformat_minor": 0,
  "metadata": {
    "colab": {
      "provenance": [],
      "authorship_tag": "ABX9TyMM0H/InDaGkNYNJIiHFxsK",
      "include_colab_link": true
    },
    "kernelspec": {
      "name": "python3",
      "display_name": "Python 3"
    },
    "language_info": {
      "name": "python"
    },
    "widgets": {
      "application/vnd.jupyter.widget-state+json": {
        "e587e168af4b4a3bb471c64373e39055": {
          "model_module": "@jupyter-widgets/controls",
          "model_name": "DropdownModel",
          "model_module_version": "1.5.0",
          "state": {
            "_dom_classes": [],
            "_model_module": "@jupyter-widgets/controls",
            "_model_module_version": "1.5.0",
            "_model_name": "DropdownModel",
            "_options_labels": [
              "Sarah Cohen",
              "David Levi",
              "Rachel Mizrahi",
              "Amir Peretz",
              "Leah Schwartz",
              "Yossi Benayoun"
            ],
            "_view_count": null,
            "_view_module": "@jupyter-widgets/controls",
            "_view_module_version": "1.5.0",
            "_view_name": "DropdownView",
            "description": "Student:",
            "description_tooltip": null,
            "disabled": false,
            "index": 1,
            "layout": "IPY_MODEL_d26e687100274cefa7ee00839ec39b38",
            "style": "IPY_MODEL_1241898bb5e94aa88be5f265e90bedb2"
          }
        },
        "d26e687100274cefa7ee00839ec39b38": {
          "model_module": "@jupyter-widgets/base",
          "model_name": "LayoutModel",
          "model_module_version": "1.2.0",
          "state": {
            "_model_module": "@jupyter-widgets/base",
            "_model_module_version": "1.2.0",
            "_model_name": "LayoutModel",
            "_view_count": null,
            "_view_module": "@jupyter-widgets/base",
            "_view_module_version": "1.2.0",
            "_view_name": "LayoutView",
            "align_content": null,
            "align_items": null,
            "align_self": null,
            "border": null,
            "bottom": null,
            "display": null,
            "flex": null,
            "flex_flow": null,
            "grid_area": null,
            "grid_auto_columns": null,
            "grid_auto_flow": null,
            "grid_auto_rows": null,
            "grid_column": null,
            "grid_gap": null,
            "grid_row": null,
            "grid_template_areas": null,
            "grid_template_columns": null,
            "grid_template_rows": null,
            "height": null,
            "justify_content": null,
            "justify_items": null,
            "left": null,
            "margin": null,
            "max_height": null,
            "max_width": null,
            "min_height": null,
            "min_width": null,
            "object_fit": null,
            "object_position": null,
            "order": null,
            "overflow": null,
            "overflow_x": null,
            "overflow_y": null,
            "padding": null,
            "right": null,
            "top": null,
            "visibility": null,
            "width": null
          }
        },
        "1241898bb5e94aa88be5f265e90bedb2": {
          "model_module": "@jupyter-widgets/controls",
          "model_name": "DescriptionStyleModel",
          "model_module_version": "1.5.0",
          "state": {
            "_model_module": "@jupyter-widgets/controls",
            "_model_module_version": "1.5.0",
            "_model_name": "DescriptionStyleModel",
            "_view_count": null,
            "_view_module": "@jupyter-widgets/base",
            "_view_module_version": "1.2.0",
            "_view_name": "StyleView",
            "description_width": ""
          }
        },
        "8e0a75907fc743d8bdd57827450469cd": {
          "model_module": "@jupyter-widgets/output",
          "model_name": "OutputModel",
          "model_module_version": "1.0.0",
          "state": {
            "_dom_classes": [],
            "_model_module": "@jupyter-widgets/output",
            "_model_module_version": "1.0.0",
            "_model_name": "OutputModel",
            "_view_count": null,
            "_view_module": "@jupyter-widgets/output",
            "_view_module_version": "1.0.0",
            "_view_name": "OutputView",
            "layout": "IPY_MODEL_272169a9f5544fd5adf7f9d04abb1900",
            "msg_id": "",
            "outputs": [
              {
                "output_type": "stream",
                "name": "stdout",
                "text": [
                  "Name: David Levi\n",
                  "Email: david@e.braude.ac.il\n",
                  "Courses: Software Engineering,  Data Structures,  Web Development,  Cybersecurity\n",
                  "Resource: https://www.codecademy.com\n",
                  "TV-Show: Stranger Things\n"
                ]
              }
            ]
          }
        },
        "272169a9f5544fd5adf7f9d04abb1900": {
          "model_module": "@jupyter-widgets/base",
          "model_name": "LayoutModel",
          "model_module_version": "1.2.0",
          "state": {
            "_model_module": "@jupyter-widgets/base",
            "_model_module_version": "1.2.0",
            "_model_name": "LayoutModel",
            "_view_count": null,
            "_view_module": "@jupyter-widgets/base",
            "_view_module_version": "1.2.0",
            "_view_name": "LayoutView",
            "align_content": null,
            "align_items": null,
            "align_self": null,
            "border": null,
            "bottom": null,
            "display": null,
            "flex": null,
            "flex_flow": null,
            "grid_area": null,
            "grid_auto_columns": null,
            "grid_auto_flow": null,
            "grid_auto_rows": null,
            "grid_column": null,
            "grid_gap": null,
            "grid_row": null,
            "grid_template_areas": null,
            "grid_template_columns": null,
            "grid_template_rows": null,
            "height": null,
            "justify_content": null,
            "justify_items": null,
            "left": null,
            "margin": null,
            "max_height": null,
            "max_width": null,
            "min_height": null,
            "min_width": null,
            "object_fit": null,
            "object_position": null,
            "order": null,
            "overflow": null,
            "overflow_x": null,
            "overflow_y": null,
            "padding": null,
            "right": null,
            "top": null,
            "visibility": null,
            "width": null
          }
        },
        "76b1d019d1f24ad3aae20755bc9c4f37": {
          "model_module": "@jupyter-widgets/controls",
          "model_name": "TextModel",
          "model_module_version": "1.5.0",
          "state": {
            "_dom_classes": [],
            "_model_module": "@jupyter-widgets/controls",
            "_model_module_version": "1.5.0",
            "_model_name": "TextModel",
            "_view_count": null,
            "_view_module": "@jupyter-widgets/controls",
            "_view_module_version": "1.5.0",
            "_view_name": "TextView",
            "continuous_update": true,
            "description": "input:",
            "description_tooltip": null,
            "disabled": false,
            "layout": "IPY_MODEL_cf7bf1f79f6e4e38b3e62d882ca54a32",
            "placeholder": "enter favorite tv-show:",
            "style": "IPY_MODEL_dea582eb63ce4326aede1e5a0f994e63",
            "value": "Stranger Things"
          }
        },
        "cf7bf1f79f6e4e38b3e62d882ca54a32": {
          "model_module": "@jupyter-widgets/base",
          "model_name": "LayoutModel",
          "model_module_version": "1.2.0",
          "state": {
            "_model_module": "@jupyter-widgets/base",
            "_model_module_version": "1.2.0",
            "_model_name": "LayoutModel",
            "_view_count": null,
            "_view_module": "@jupyter-widgets/base",
            "_view_module_version": "1.2.0",
            "_view_name": "LayoutView",
            "align_content": null,
            "align_items": null,
            "align_self": null,
            "border": null,
            "bottom": null,
            "display": null,
            "flex": null,
            "flex_flow": null,
            "grid_area": null,
            "grid_auto_columns": null,
            "grid_auto_flow": null,
            "grid_auto_rows": null,
            "grid_column": null,
            "grid_gap": null,
            "grid_row": null,
            "grid_template_areas": null,
            "grid_template_columns": null,
            "grid_template_rows": null,
            "height": null,
            "justify_content": null,
            "justify_items": null,
            "left": null,
            "margin": null,
            "max_height": null,
            "max_width": null,
            "min_height": null,
            "min_width": null,
            "object_fit": null,
            "object_position": null,
            "order": null,
            "overflow": null,
            "overflow_x": null,
            "overflow_y": null,
            "padding": null,
            "right": null,
            "top": null,
            "visibility": null,
            "width": null
          }
        },
        "dea582eb63ce4326aede1e5a0f994e63": {
          "model_module": "@jupyter-widgets/controls",
          "model_name": "DescriptionStyleModel",
          "model_module_version": "1.5.0",
          "state": {
            "_model_module": "@jupyter-widgets/controls",
            "_model_module_version": "1.5.0",
            "_model_name": "DescriptionStyleModel",
            "_view_count": null,
            "_view_module": "@jupyter-widgets/base",
            "_view_module_version": "1.2.0",
            "_view_name": "StyleView",
            "description_width": ""
          }
        },
        "33c3bf325504430e9eff3046de8a6d21": {
          "model_module": "@jupyter-widgets/controls",
          "model_name": "ButtonModel",
          "model_module_version": "1.5.0",
          "state": {
            "_dom_classes": [],
            "_model_module": "@jupyter-widgets/controls",
            "_model_module_version": "1.5.0",
            "_model_name": "ButtonModel",
            "_view_count": null,
            "_view_module": "@jupyter-widgets/controls",
            "_view_module_version": "1.5.0",
            "_view_name": "ButtonView",
            "button_style": "success",
            "description": "save tv-show for student",
            "disabled": false,
            "icon": "check",
            "layout": "IPY_MODEL_1b0159d329264ff0877b618430ac68ee",
            "style": "IPY_MODEL_30546e2956f84d73aab0922eefecfe25",
            "tooltip": "Click to submit your text"
          }
        },
        "1b0159d329264ff0877b618430ac68ee": {
          "model_module": "@jupyter-widgets/base",
          "model_name": "LayoutModel",
          "model_module_version": "1.2.0",
          "state": {
            "_model_module": "@jupyter-widgets/base",
            "_model_module_version": "1.2.0",
            "_model_name": "LayoutModel",
            "_view_count": null,
            "_view_module": "@jupyter-widgets/base",
            "_view_module_version": "1.2.0",
            "_view_name": "LayoutView",
            "align_content": null,
            "align_items": null,
            "align_self": null,
            "border": null,
            "bottom": null,
            "display": null,
            "flex": null,
            "flex_flow": null,
            "grid_area": null,
            "grid_auto_columns": null,
            "grid_auto_flow": null,
            "grid_auto_rows": null,
            "grid_column": null,
            "grid_gap": null,
            "grid_row": null,
            "grid_template_areas": null,
            "grid_template_columns": null,
            "grid_template_rows": null,
            "height": null,
            "justify_content": null,
            "justify_items": null,
            "left": null,
            "margin": "1px 1px 1px 80px",
            "max_height": null,
            "max_width": null,
            "min_height": null,
            "min_width": null,
            "object_fit": null,
            "object_position": null,
            "order": null,
            "overflow": null,
            "overflow_x": null,
            "overflow_y": null,
            "padding": null,
            "right": null,
            "top": null,
            "visibility": null,
            "width": "250px"
          }
        },
        "30546e2956f84d73aab0922eefecfe25": {
          "model_module": "@jupyter-widgets/controls",
          "model_name": "ButtonStyleModel",
          "model_module_version": "1.5.0",
          "state": {
            "_model_module": "@jupyter-widgets/controls",
            "_model_module_version": "1.5.0",
            "_model_name": "ButtonStyleModel",
            "_view_count": null,
            "_view_module": "@jupyter-widgets/base",
            "_view_module_version": "1.2.0",
            "_view_name": "StyleView",
            "button_color": null,
            "font_weight": ""
          }
        }
      }
    }
  },
  "cells": [
    {
      "cell_type": "markdown",
      "metadata": {
        "id": "view-in-github",
        "colab_type": "text"
      },
      "source": [
        "<a href=\"https://colab.research.google.com/github/dsaadss/cloudtut/blob/main/tut1cloud.ipynb\" target=\"_parent\"><img src=\"https://colab.research.google.com/assets/colab-badge.svg\" alt=\"Open In Colab\"/></a>"
      ]
    },
    {
      "cell_type": "code",
      "source": [
        "from google.colab import drive\n",
        "drive.mount('/content/drive')\n"
      ],
      "metadata": {
        "colab": {
          "base_uri": "https://localhost:8080/"
        },
        "id": "sAdkGSWe7p43",
        "outputId": "1ad69ad4-e748-43a0-c798-3476af7fdfaa"
      },
      "execution_count": 1,
      "outputs": [
        {
          "output_type": "stream",
          "name": "stdout",
          "text": [
            "Drive already mounted at /content/drive; to attempt to forcibly remount, call drive.mount(\"/content/drive\", force_remount=True).\n"
          ]
        }
      ]
    },
    {
      "cell_type": "code",
      "source": [
        "!cd /\"/content/drive/My Drive/Colab Notebooks\"\n"
      ],
      "metadata": {
        "colab": {
          "base_uri": "https://localhost:8080/"
        },
        "id": "32l1XicX8PzP",
        "outputId": "f825e745-085f-40fe-ac99-5e0d568bff00"
      },
      "execution_count": 17,
      "outputs": [
        {
          "output_type": "stream",
          "name": "stdout",
          "text": [
            "/content/drive/My Drive/Colab Notebooks\n"
          ]
        }
      ]
    },
    {
      "cell_type": "code",
      "source": [
        "!ls"
      ],
      "metadata": {
        "colab": {
          "base_uri": "https://localhost:8080/"
        },
        "id": "Dw0v_KUchmDv",
        "outputId": "b1147a58-d65c-4887-d01b-a75f922e97dc"
      },
      "execution_count": 18,
      "outputs": [
        {
          "output_type": "stream",
          "name": "stdout",
          "text": [
            "1.txt  students.txt  tut1cloud.ipynb\n"
          ]
        }
      ]
    },
    {
      "cell_type": "code",
      "source": [
        "# @title read the student and load\n",
        "\n",
        "# List to hold student data\n",
        "students_list = []\n",
        "\n",
        "# Read from the file and create a dictionary for each student\n",
        "with open('students.txt', 'r') as file:\n",
        "    lines = file.readlines()  # Read all lines into a list\n",
        "    for line in lines:\n",
        "        row = line.strip().split(',')  # Strip and split each line into parts using the comma as a delimiter\n",
        "        if row:  # Check if row is not empty\n",
        "            name = row[0].strip()\n",
        "            email = row[1].strip()\n",
        "            courses = row[2].strip().split(';')  # Split the second index into courses using semicolon\n",
        "            resource = row[3].strip()\n",
        "            # Add the student to the list with an initial TV-show attribute\n",
        "            students_list.append({\n",
        "                \"Name\": name,\n",
        "                \"Email\": email,\n",
        "                \"Courses\": courses,\n",
        "                \"Resource\": resource,\n",
        "                \"TV-Show\": \"\"  # Placeholder for the TV show attribute\n",
        "            })\n",
        "\n",
        "# Example to update a TV show for a specific student, e.g., Sarah Cohen\n",
        "\n",
        "# Print the updated list to verify\n",
        "for i in students_list:\n",
        "    print(i)\n",
        "\n"
      ],
      "metadata": {
        "colab": {
          "base_uri": "https://localhost:8080/"
        },
        "id": "eBjnrbTgGuzo",
        "outputId": "c4127cab-686d-419c-af44-e9df65056e9b"
      },
      "execution_count": 61,
      "outputs": [
        {
          "output_type": "stream",
          "name": "stdout",
          "text": [
            "{'Name': 'Sarah Cohen', 'Email': 'sarah@e.braude.ac.il', 'Courses': ['Calculus', ' Physics', ' Computer Science', ' Digital Design', ' Ethics'], 'Resource': 'https://www.khanacademy.org/math/calculus-1', 'TV-Show': ''}\n",
            "{'Name': 'David Levi', 'Email': 'david@e.braude.ac.il', 'Courses': ['Software Engineering', ' Data Structures', ' Web Development', ' Cybersecurity'], 'Resource': 'https://www.codecademy.com', 'TV-Show': ''}\n",
            "{'Name': 'Rachel Mizrahi', 'Email': 'rachel@e.braude.ac.il', 'Courses': ['Algorithms', ' Machine Learning', ' Artificial Intelligence', ' Ethics in AI'], 'Resource': 'https://developers.google.com/machine-learning/crash-course', 'TV-Show': ''}\n",
            "{'Name': 'Amir Peretz', 'Email': 'amir@e.braude.ac.il', 'Courses': ['Embedded Systems', ' Robotics', ' Microcontrollers', ' Circuit Analysis'], 'Resource': 'https://www.arduino.cc', 'TV-Show': ''}\n",
            "{'Name': 'Leah Schwartz', 'Email': 'leah@e.braude.ac.il', 'Courses': ['Linear Algebra', ' Statistics', ' Data Science', ' Python Programming'], 'Resource': 'https://www.khanacademy.org/math/statistics-probability', 'TV-Show': ''}\n",
            "{'Name': 'Yossi Benayoun', 'Email': 'yossi@e.braude.ac.il', 'Courses': ['Network Theory', ' Operating Systems', ' Cloud Computing', ' Data Management'], 'Resource': 'https://aws.amazon.com/training/', 'TV-Show': ''}\n"
          ]
        }
      ]
    },
    {
      "cell_type": "code",
      "source": [
        "# @title Default title text\n",
        "import ipywidgets as widgets\n",
        "from IPython.display import display, clear_output\n",
        "\n",
        "# Dropdown widget to select a student\n",
        "student_dropdown = widgets.Dropdown(\n",
        "    options=[student['Name'] for student in students_list],  # Creating options from the student names\n",
        "    description='Student:',\n",
        ")\n",
        "\n",
        "text_input = widgets.Text(\n",
        "    value='',\n",
        "    placeholder='enter favorite tv-show:',\n",
        "    description='input:',\n",
        "\n",
        ")\n",
        "\n",
        "submit_button = widgets.Button(\n",
        "    description='save tv-show for student',\n",
        "    button_style='success',\n",
        "    tooltip='Click to submit your text',\n",
        "    icon='check' ,\n",
        "    layout=widgets.Layout(margin='1px 1px 1px 80px',width='250px')\n",
        "\n",
        ")\n",
        "#    student_info = f\"{name}, {email}, {courses}, {resource}\"\n",
        "def on_button_clicked(b):\n",
        "  selected_student = next(student for student in students_list if student['Name'] == student_dropdown.value)\n",
        "  selected_student['TV-Show']=text_input.value\n",
        "  student_info = f\"{selected_student['Name']}, {selected_student['Email']}, {';'.join(selected_student['Courses'])}, {selected_student['Resource']}, {selected_student['TV-Show']}\"\n",
        "  with open('students.txt', 'a') as file1:\n",
        "        # Write the new student information to the file\n",
        "        file1.write(\"\\n\"+student_info + \"\\n\")\n",
        "        file1.close()\n",
        "  with output:\n",
        "        clear_output()\n",
        "        print(\"saved\")\n",
        "  time.sleep(2)  # Simulate some computation\n",
        "  with output:\n",
        "        clear_output()\n",
        "\n",
        "\n",
        "\n",
        "submit_button.on_click(on_button_clicked)\n",
        "\n",
        "# Output widget to display student details\n",
        "output = widgets.Output()\n",
        "\n",
        "def on_student_change(change):\n",
        "    output.clear_output()  # Clear the previous output\n",
        "    selected_student = next(student for student in students_list if student['Name'] == change['new'])  # Find the selected student\n",
        "    with output:\n",
        "        print(f\"Name: {selected_student['Name']}\")\n",
        "        print(f\"Email: {selected_student['Email']}\")\n",
        "        print(f\"Courses: {', '.join(selected_student['Courses'])}\")\n",
        "        print(f\"Resource: {selected_student['Resource']}\")\n",
        "        print(f\"TV-Show: {selected_student['TV-Show']}\")\n",
        "\n",
        "# Linking the dropdown value change to update the display\n",
        "student_dropdown.observe(on_student_change, names='value')\n",
        "\n",
        "\n",
        "# Display widgets\n",
        "display(student_dropdown, output,text_input,submit_button)\n"
      ],
      "metadata": {
        "colab": {
          "base_uri": "https://localhost:8080/",
          "height": 226,
          "referenced_widgets": [
            "e587e168af4b4a3bb471c64373e39055",
            "d26e687100274cefa7ee00839ec39b38",
            "1241898bb5e94aa88be5f265e90bedb2",
            "8e0a75907fc743d8bdd57827450469cd",
            "272169a9f5544fd5adf7f9d04abb1900",
            "76b1d019d1f24ad3aae20755bc9c4f37",
            "cf7bf1f79f6e4e38b3e62d882ca54a32",
            "dea582eb63ce4326aede1e5a0f994e63",
            "33c3bf325504430e9eff3046de8a6d21",
            "1b0159d329264ff0877b618430ac68ee",
            "30546e2956f84d73aab0922eefecfe25"
          ]
        },
        "id": "77ppGwKHGvww",
        "outputId": "8a379394-71fd-46f3-9c7c-b0ee2824feb3"
      },
      "execution_count": 68,
      "outputs": [
        {
          "output_type": "display_data",
          "data": {
            "text/plain": [
              "Dropdown(description='Student:', options=('Sarah Cohen', 'David Levi', 'Rachel Mizrahi', 'Amir Peretz', 'Leah …"
            ],
            "application/vnd.jupyter.widget-view+json": {
              "version_major": 2,
              "version_minor": 0,
              "model_id": "e587e168af4b4a3bb471c64373e39055"
            }
          },
          "metadata": {}
        },
        {
          "output_type": "display_data",
          "data": {
            "text/plain": [
              "Output()"
            ],
            "application/vnd.jupyter.widget-view+json": {
              "version_major": 2,
              "version_minor": 0,
              "model_id": "8e0a75907fc743d8bdd57827450469cd"
            }
          },
          "metadata": {}
        },
        {
          "output_type": "display_data",
          "data": {
            "text/plain": [
              "Text(value='', description='input:', placeholder='enter favorite tv-show:')"
            ],
            "application/vnd.jupyter.widget-view+json": {
              "version_major": 2,
              "version_minor": 0,
              "model_id": "76b1d019d1f24ad3aae20755bc9c4f37"
            }
          },
          "metadata": {}
        },
        {
          "output_type": "display_data",
          "data": {
            "text/plain": [
              "Button(button_style='success', description='save tv-show for student', icon='check', layout=Layout(margin='1px…"
            ],
            "application/vnd.jupyter.widget-view+json": {
              "version_major": 2,
              "version_minor": 0,
              "model_id": "33c3bf325504430e9eff3046de8a6d21"
            }
          },
          "metadata": {}
        }
      ]
    },
    {
      "cell_type": "markdown",
      "source": [],
      "metadata": {
        "id": "BWCZ6KIsGuo9"
      }
    }
  ]
}