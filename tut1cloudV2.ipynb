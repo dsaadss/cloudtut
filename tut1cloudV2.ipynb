{
  "nbformat": 4,
  "nbformat_minor": 0,
  "metadata": {
    "colab": {
      "provenance": [],
      "authorship_tag": "ABX9TyMhCIAYL1qTfusDBXx3gLup",
      "include_colab_link": true
    },
    "kernelspec": {
      "name": "python3",
      "display_name": "Python 3"
    },
    "language_info": {
      "name": "python"
    },
    "widgets": {
      "application/vnd.jupyter.widget-state+json": {
        "2537877253274f5689c9be513bbda2d0": {
          "model_module": "@jupyter-widgets/controls",
          "model_name": "DropdownModel",
          "model_module_version": "1.5.0",
          "state": {
            "_dom_classes": [],
            "_model_module": "@jupyter-widgets/controls",
            "_model_module_version": "1.5.0",
            "_model_name": "DropdownModel",
            "_options_labels": [
              "Sarah Cohen",
              "David Levi",
              "Rachel Mizrahi",
              "Amir Peretz",
              "Leah Schwartz",
              "Yossi Benayoun"
            ],
            "_view_count": null,
            "_view_module": "@jupyter-widgets/controls",
            "_view_module_version": "1.5.0",
            "_view_name": "DropdownView",
            "description": "Student:",
            "description_tooltip": null,
            "disabled": false,
            "index": 1,
            "layout": "IPY_MODEL_7c23f6b14162441f9598cc0446e2ccdf",
            "style": "IPY_MODEL_4e14b8db15c244508699ed677791a1d7"
          }
        },
        "7c23f6b14162441f9598cc0446e2ccdf": {
          "model_module": "@jupyter-widgets/base",
          "model_name": "LayoutModel",
          "model_module_version": "1.2.0",
          "state": {
            "_model_module": "@jupyter-widgets/base",
            "_model_module_version": "1.2.0",
            "_model_name": "LayoutModel",
            "_view_count": null,
            "_view_module": "@jupyter-widgets/base",
            "_view_module_version": "1.2.0",
            "_view_name": "LayoutView",
            "align_content": null,
            "align_items": null,
            "align_self": null,
            "border": null,
            "bottom": null,
            "display": null,
            "flex": null,
            "flex_flow": null,
            "grid_area": null,
            "grid_auto_columns": null,
            "grid_auto_flow": null,
            "grid_auto_rows": null,
            "grid_column": null,
            "grid_gap": null,
            "grid_row": null,
            "grid_template_areas": null,
            "grid_template_columns": null,
            "grid_template_rows": null,
            "height": null,
            "justify_content": null,
            "justify_items": null,
            "left": null,
            "margin": null,
            "max_height": null,
            "max_width": null,
            "min_height": null,
            "min_width": null,
            "object_fit": null,
            "object_position": null,
            "order": null,
            "overflow": null,
            "overflow_x": null,
            "overflow_y": null,
            "padding": null,
            "right": null,
            "top": null,
            "visibility": null,
            "width": null
          }
        },
        "4e14b8db15c244508699ed677791a1d7": {
          "model_module": "@jupyter-widgets/controls",
          "model_name": "DescriptionStyleModel",
          "model_module_version": "1.5.0",
          "state": {
            "_model_module": "@jupyter-widgets/controls",
            "_model_module_version": "1.5.0",
            "_model_name": "DescriptionStyleModel",
            "_view_count": null,
            "_view_module": "@jupyter-widgets/base",
            "_view_module_version": "1.2.0",
            "_view_name": "StyleView",
            "description_width": ""
          }
        },
        "f669c0a8bc53415ba2a150f37d304ac9": {
          "model_module": "@jupyter-widgets/output",
          "model_name": "OutputModel",
          "model_module_version": "1.0.0",
          "state": {
            "_dom_classes": [],
            "_model_module": "@jupyter-widgets/output",
            "_model_module_version": "1.0.0",
            "_model_name": "OutputModel",
            "_view_count": null,
            "_view_module": "@jupyter-widgets/output",
            "_view_module_version": "1.0.0",
            "_view_name": "OutputView",
            "layout": "IPY_MODEL_3577bf9c9b6d4b3da0c5a14e31f7ca2d",
            "msg_id": "",
            "outputs": [
              {
                "output_type": "stream",
                "name": "stdout",
                "text": [
                  "Name: David Levi\n",
                  "Email: david@e.braude.ac.il\n",
                  "Courses: Software Engineering,  Data Structures,  Web Development,  Cybersecurity\n",
                  "Resource: https://www.codecademy.com\n",
                  "TV-Show: hello\n"
                ]
              }
            ]
          }
        },
        "3577bf9c9b6d4b3da0c5a14e31f7ca2d": {
          "model_module": "@jupyter-widgets/base",
          "model_name": "LayoutModel",
          "model_module_version": "1.2.0",
          "state": {
            "_model_module": "@jupyter-widgets/base",
            "_model_module_version": "1.2.0",
            "_model_name": "LayoutModel",
            "_view_count": null,
            "_view_module": "@jupyter-widgets/base",
            "_view_module_version": "1.2.0",
            "_view_name": "LayoutView",
            "align_content": null,
            "align_items": null,
            "align_self": null,
            "border": null,
            "bottom": null,
            "display": null,
            "flex": null,
            "flex_flow": null,
            "grid_area": null,
            "grid_auto_columns": null,
            "grid_auto_flow": null,
            "grid_auto_rows": null,
            "grid_column": null,
            "grid_gap": null,
            "grid_row": null,
            "grid_template_areas": null,
            "grid_template_columns": null,
            "grid_template_rows": null,
            "height": null,
            "justify_content": null,
            "justify_items": null,
            "left": null,
            "margin": null,
            "max_height": null,
            "max_width": null,
            "min_height": null,
            "min_width": null,
            "object_fit": null,
            "object_position": null,
            "order": null,
            "overflow": null,
            "overflow_x": null,
            "overflow_y": null,
            "padding": null,
            "right": null,
            "top": null,
            "visibility": null,
            "width": null
          }
        },
        "df1a5ac451d34aeea0718345d7ec4767": {
          "model_module": "@jupyter-widgets/controls",
          "model_name": "TextModel",
          "model_module_version": "1.5.0",
          "state": {
            "_dom_classes": [],
            "_model_module": "@jupyter-widgets/controls",
            "_model_module_version": "1.5.0",
            "_model_name": "TextModel",
            "_view_count": null,
            "_view_module": "@jupyter-widgets/controls",
            "_view_module_version": "1.5.0",
            "_view_name": "TextView",
            "continuous_update": true,
            "description": "Input:",
            "description_tooltip": null,
            "disabled": false,
            "layout": "IPY_MODEL_a450a722a9364d1195f955fc3ab01a8f",
            "placeholder": "Enter favorite TV show:",
            "style": "IPY_MODEL_f96e8120a21941f29c94c0293e3ec31c",
            "value": ""
          }
        },
        "a450a722a9364d1195f955fc3ab01a8f": {
          "model_module": "@jupyter-widgets/base",
          "model_name": "LayoutModel",
          "model_module_version": "1.2.0",
          "state": {
            "_model_module": "@jupyter-widgets/base",
            "_model_module_version": "1.2.0",
            "_model_name": "LayoutModel",
            "_view_count": null,
            "_view_module": "@jupyter-widgets/base",
            "_view_module_version": "1.2.0",
            "_view_name": "LayoutView",
            "align_content": null,
            "align_items": null,
            "align_self": null,
            "border": null,
            "bottom": null,
            "display": null,
            "flex": null,
            "flex_flow": null,
            "grid_area": null,
            "grid_auto_columns": null,
            "grid_auto_flow": null,
            "grid_auto_rows": null,
            "grid_column": null,
            "grid_gap": null,
            "grid_row": null,
            "grid_template_areas": null,
            "grid_template_columns": null,
            "grid_template_rows": null,
            "height": null,
            "justify_content": null,
            "justify_items": null,
            "left": null,
            "margin": null,
            "max_height": null,
            "max_width": null,
            "min_height": null,
            "min_width": null,
            "object_fit": null,
            "object_position": null,
            "order": null,
            "overflow": null,
            "overflow_x": null,
            "overflow_y": null,
            "padding": null,
            "right": null,
            "top": null,
            "visibility": null,
            "width": null
          }
        },
        "f96e8120a21941f29c94c0293e3ec31c": {
          "model_module": "@jupyter-widgets/controls",
          "model_name": "DescriptionStyleModel",
          "model_module_version": "1.5.0",
          "state": {
            "_model_module": "@jupyter-widgets/controls",
            "_model_module_version": "1.5.0",
            "_model_name": "DescriptionStyleModel",
            "_view_count": null,
            "_view_module": "@jupyter-widgets/base",
            "_view_module_version": "1.2.0",
            "_view_name": "StyleView",
            "description_width": ""
          }
        },
        "5892da3528b24beb8ba3a6dd4437d5c7": {
          "model_module": "@jupyter-widgets/controls",
          "model_name": "ButtonModel",
          "model_module_version": "1.5.0",
          "state": {
            "_dom_classes": [],
            "_model_module": "@jupyter-widgets/controls",
            "_model_module_version": "1.5.0",
            "_model_name": "ButtonModel",
            "_view_count": null,
            "_view_module": "@jupyter-widgets/controls",
            "_view_module_version": "1.5.0",
            "_view_name": "ButtonView",
            "button_style": "success",
            "description": "Save TV show for student",
            "disabled": false,
            "icon": "check",
            "layout": "IPY_MODEL_81eaab652eb0478b9c15c4971d461297",
            "style": "IPY_MODEL_c25dcbae17144d1ea9ffd41daea77db5",
            "tooltip": "Click to submit your text"
          }
        },
        "81eaab652eb0478b9c15c4971d461297": {
          "model_module": "@jupyter-widgets/base",
          "model_name": "LayoutModel",
          "model_module_version": "1.2.0",
          "state": {
            "_model_module": "@jupyter-widgets/base",
            "_model_module_version": "1.2.0",
            "_model_name": "LayoutModel",
            "_view_count": null,
            "_view_module": "@jupyter-widgets/base",
            "_view_module_version": "1.2.0",
            "_view_name": "LayoutView",
            "align_content": null,
            "align_items": null,
            "align_self": null,
            "border": null,
            "bottom": null,
            "display": null,
            "flex": null,
            "flex_flow": null,
            "grid_area": null,
            "grid_auto_columns": null,
            "grid_auto_flow": null,
            "grid_auto_rows": null,
            "grid_column": null,
            "grid_gap": null,
            "grid_row": null,
            "grid_template_areas": null,
            "grid_template_columns": null,
            "grid_template_rows": null,
            "height": null,
            "justify_content": null,
            "justify_items": null,
            "left": null,
            "margin": "1px 1px 1px 80px",
            "max_height": null,
            "max_width": null,
            "min_height": null,
            "min_width": null,
            "object_fit": null,
            "object_position": null,
            "order": null,
            "overflow": null,
            "overflow_x": null,
            "overflow_y": null,
            "padding": null,
            "right": null,
            "top": null,
            "visibility": null,
            "width": "250px"
          }
        },
        "c25dcbae17144d1ea9ffd41daea77db5": {
          "model_module": "@jupyter-widgets/controls",
          "model_name": "ButtonStyleModel",
          "model_module_version": "1.5.0",
          "state": {
            "_model_module": "@jupyter-widgets/controls",
            "_model_module_version": "1.5.0",
            "_model_name": "ButtonStyleModel",
            "_view_count": null,
            "_view_module": "@jupyter-widgets/base",
            "_view_module_version": "1.2.0",
            "_view_name": "StyleView",
            "button_color": null,
            "font_weight": ""
          }
        }
      }
    }
  },
  "cells": [
    {
      "cell_type": "markdown",
      "metadata": {
        "id": "view-in-github",
        "colab_type": "text"
      },
      "source": [
        "<a href=\"https://colab.research.google.com/github/dsaadss/cloudtut/blob/main/tut1cloudV2.ipynb\" target=\"_parent\"><img src=\"https://colab.research.google.com/assets/colab-badge.svg\" alt=\"Open In Colab\"/></a>"
      ]
    },
    {
      "cell_type": "code",
      "source": [
        "from google.colab import drive\n",
        "drive.mount('/content/drive')\n"
      ],
      "metadata": {
        "colab": {
          "base_uri": "https://localhost:8080/"
        },
        "id": "sAdkGSWe7p43",
        "outputId": "a3ec6c09-290c-4fa8-8d14-ffa85152dcae"
      },
      "execution_count": 30,
      "outputs": [
        {
          "output_type": "stream",
          "name": "stdout",
          "text": [
            "Drive already mounted at /content/drive; to attempt to forcibly remount, call drive.mount(\"/content/drive\", force_remount=True).\n"
          ]
        }
      ]
    },
    {
      "cell_type": "code",
      "source": [
        "cd \"/content/drive/My Drive/Colab Notebooks\"\n"
      ],
      "metadata": {
        "id": "32l1XicX8PzP",
        "colab": {
          "base_uri": "https://localhost:8080/"
        },
        "outputId": "e6561cad-954e-45ed-fe3c-d266263f0f21"
      },
      "execution_count": 31,
      "outputs": [
        {
          "output_type": "stream",
          "name": "stdout",
          "text": [
            "/content/drive/My Drive/Colab Notebooks\n"
          ]
        }
      ]
    },
    {
      "cell_type": "code",
      "source": [
        "ls"
      ],
      "metadata": {
        "colab": {
          "base_uri": "https://localhost:8080/"
        },
        "id": "Dw0v_KUchmDv",
        "outputId": "43f64e9e-4b9c-4d3c-97b4-5d695e7b8e94"
      },
      "execution_count": 32,
      "outputs": [
        {
          "output_type": "stream",
          "name": "stdout",
          "text": [
            "1.txt  students.txt  tut1cloud.ipynb\n"
          ]
        }
      ]
    },
    {
      "cell_type": "code",
      "source": [
        "# @title read the student and load\n",
        "\n",
        "# List to hold student data\n",
        "students_list = []\n",
        "\n",
        "# Read from the file and create a dictionary for each student\n",
        "with open('students.txt', 'r') as file:\n",
        "    lines = file.readlines()  # Read all lines into a list\n",
        "    for line in lines:\n",
        "        row = line.strip().split(',')  # Strip and split each line into parts using the comma as a delimiter\n",
        "        if row:  # Check if row is not empty\n",
        "            name = row[0].strip()\n",
        "            LastName=row[1].strip()\n",
        "            email = row[2].strip()\n",
        "            courses = row[3].strip().split(';')  # Split the second index into courses using semicolon\n",
        "            resource = row[4].strip()\n",
        "            # Add the student to the list with an initial TV-show attribute\n",
        "            students_list.append({\n",
        "                \"Name\": name,\n",
        "                \"LastName\" : LastName,\n",
        "                \"Email\": email,\n",
        "                \"Courses\": courses,\n",
        "                \"Resource\": resource,\n",
        "                \"TV-Show\": \"\"  # Placeholder for the TV show attribute\n",
        "            })\n",
        "\n",
        "# Example to update a TV show for a specific student, e.g., Sarah Cohen\n",
        "\n",
        "# Print the updated list to verify\n",
        "for i in students_list:\n",
        "    print(i)\n",
        "\n"
      ],
      "metadata": {
        "colab": {
          "base_uri": "https://localhost:8080/"
        },
        "id": "eBjnrbTgGuzo",
        "outputId": "8692e779-4d57-4e07-dfa3-e2acf7334d81"
      },
      "execution_count": 37,
      "outputs": [
        {
          "output_type": "stream",
          "name": "stdout",
          "text": [
            "{'Name': 'Sarah', 'LastName': 'Cohen', 'Email': 'sarah@e.braude.ac.il', 'Courses': ['Calculus', ' Physics', ' Computer Science', ' Digital Design', ' Ethics'], 'Resource': 'https://www.khanacademy.org/math/calculus-1', 'TV-Show': ''}\n",
            "{'Name': 'David', 'LastName': 'Levi', 'Email': 'david@e.braude.ac.il', 'Courses': ['Software Engineering', ' Data Structures', ' Web Development', ' Cybersecurity'], 'Resource': 'https://www.codecademy.com', 'TV-Show': ''}\n",
            "{'Name': 'Rachel', 'LastName': 'Mizrahi', 'Email': 'rachel@e.braude.ac.il', 'Courses': ['Algorithms', ' Machine Learning', ' Artificial Intelligence', ' Ethics in AI'], 'Resource': 'https://developers.google.com/machine-learning/crash-course', 'TV-Show': ''}\n",
            "{'Name': 'Amir', 'LastName': 'Peretz', 'Email': 'amir@e.braude.ac.il', 'Courses': ['Embedded Systems', ' Robotics', ' Microcontrollers', ' Circuit Analysis'], 'Resource': 'https://www.arduino.cc', 'TV-Show': ''}\n",
            "{'Name': 'Leah', 'LastName': 'Schwartz', 'Email': 'leah@e.braude.ac.il', 'Courses': ['Linear Algebra', ' Statistics', ' Data Science', ' Python Programming'], 'Resource': 'https://www.khanacademy.org/math/statistics-probability', 'TV-Show': ''}\n",
            "{'Name': 'Yossi', 'LastName': 'Benayoun', 'Email': 'yossi@e.braude.ac.il', 'Courses': ['Network Theory', ' Operating Systems', ' Cloud Computing', ' Data Management'], 'Resource': 'https://aws.amazon.com/training/', 'TV-Show': ''}\n"
          ]
        }
      ]
    },
    {
      "cell_type": "code",
      "source": [
        "# @title Default title text\n",
        "import ipywidgets as widgets\n",
        "from IPython.display import display, clear_output\n",
        "import time\n",
        "\n",
        "\n",
        "\n",
        "# Dropdown widget to select a student\n",
        "student_dropdown = widgets.Dropdown(\n",
        "    options=[f\"{student['Name']} {student['LastName']}\" for student in students_list],  # Use full names for options\n",
        "    description='Student:',\n",
        ")\n",
        "\n",
        "text_input = widgets.Text(\n",
        "    value='',\n",
        "    placeholder='Enter favorite TV show:',\n",
        "    description='Input:',\n",
        ")\n",
        "\n",
        "submit_button = widgets.Button(\n",
        "    description='Save TV show for student',\n",
        "    button_style='success',\n",
        "    tooltip='Click to submit your text',\n",
        "    icon='check',\n",
        "    layout=widgets.Layout(margin='1px 1px 1px 80px', width='250px')\n",
        ")\n",
        "\n",
        "# Output widget to display student details\n",
        "output = widgets.Output()\n",
        "\n",
        "def on_button_clicked(b):\n",
        "    # Find the selected student by full name\n",
        "    selected_student = next(student for student in students_list if f\"{student['Name']} {student['LastName']}\" == student_dropdown.value)\n",
        "    selected_student['TV-Show'] = text_input.value\n",
        "    # Generate the student info string with full name\n",
        "    student_info = f\"{selected_student['Name']} {selected_student['LastName']}, {selected_student['Email']}, {';'.join(selected_student['Courses'])}, {selected_student['Resource']}, {selected_student['TV-Show']}\"\n",
        "    with open('students.txt', 'a') as file1:\n",
        "        # Append the new student information to the file\n",
        "        file1.write(\"\\n\" + student_info + \"\\n\")\n",
        "    with output:\n",
        "        clear_output()\n",
        "        print(\"Saved\")\n",
        "    time.sleep(2)\n",
        "    with output:\n",
        "        clear_output()\n",
        "        text_input.value=''\n",
        "\n",
        "\n",
        "submit_button.on_click(on_button_clicked)\n",
        "\n",
        "def on_student_change(change):\n",
        "    output.clear_output()\n",
        "    # Find the selected student by full name\n",
        "    selected_student = next(student for student in students_list if f\"{student['Name']} {student['LastName']}\" == change['new'])\n",
        "    with output:\n",
        "        print(f\"Name: {selected_student['Name']} {selected_student['LastName']}\")\n",
        "        print(f\"Email: {selected_student['Email']}\")\n",
        "        print(f\"Courses: {', '.join(selected_student['Courses'])}\")\n",
        "        print(f\"Resource: {selected_student['Resource']}\")\n",
        "        print(f\"TV-Show: {selected_student['TV-Show']}\")\n",
        "\n",
        "# Linking the dropdown value change to update the display\n",
        "student_dropdown.observe(on_student_change, names='value')\n",
        "\n",
        "# Display widgets\n",
        "display(student_dropdown, output, text_input, submit_button)\n"
      ],
      "metadata": {
        "colab": {
          "base_uri": "https://localhost:8080/",
          "height": 206,
          "referenced_widgets": [
            "2537877253274f5689c9be513bbda2d0",
            "7c23f6b14162441f9598cc0446e2ccdf",
            "4e14b8db15c244508699ed677791a1d7",
            "f669c0a8bc53415ba2a150f37d304ac9",
            "3577bf9c9b6d4b3da0c5a14e31f7ca2d",
            "df1a5ac451d34aeea0718345d7ec4767",
            "a450a722a9364d1195f955fc3ab01a8f",
            "f96e8120a21941f29c94c0293e3ec31c",
            "5892da3528b24beb8ba3a6dd4437d5c7",
            "81eaab652eb0478b9c15c4971d461297",
            "c25dcbae17144d1ea9ffd41daea77db5"
          ]
        },
        "id": "77ppGwKHGvww",
        "outputId": "1fdf7f48-6acf-4fb1-bc05-9fc676c0e696"
      },
      "execution_count": 40,
      "outputs": [
        {
          "output_type": "display_data",
          "data": {
            "text/plain": [
              "Dropdown(description='Student:', options=('Sarah Cohen', 'David Levi', 'Rachel Mizrahi', 'Amir Peretz', 'Leah …"
            ],
            "application/vnd.jupyter.widget-view+json": {
              "version_major": 2,
              "version_minor": 0,
              "model_id": "2537877253274f5689c9be513bbda2d0"
            }
          },
          "metadata": {}
        },
        {
          "output_type": "display_data",
          "data": {
            "text/plain": [
              "Output()"
            ],
            "application/vnd.jupyter.widget-view+json": {
              "version_major": 2,
              "version_minor": 0,
              "model_id": "f669c0a8bc53415ba2a150f37d304ac9"
            }
          },
          "metadata": {}
        },
        {
          "output_type": "display_data",
          "data": {
            "text/plain": [
              "Text(value='', description='Input:', placeholder='Enter favorite TV show:')"
            ],
            "application/vnd.jupyter.widget-view+json": {
              "version_major": 2,
              "version_minor": 0,
              "model_id": "df1a5ac451d34aeea0718345d7ec4767"
            }
          },
          "metadata": {}
        },
        {
          "output_type": "display_data",
          "data": {
            "text/plain": [
              "Button(button_style='success', description='Save TV show for student', icon='check', layout=Layout(margin='1px…"
            ],
            "application/vnd.jupyter.widget-view+json": {
              "version_major": 2,
              "version_minor": 0,
              "model_id": "5892da3528b24beb8ba3a6dd4437d5c7"
            }
          },
          "metadata": {}
        }
      ]
    },
    {
      "cell_type": "markdown",
      "source": [],
      "metadata": {
        "id": "BWCZ6KIsGuo9"
      }
    }
  ]
}